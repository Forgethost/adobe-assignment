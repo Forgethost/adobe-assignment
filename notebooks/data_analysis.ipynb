{
 "cells": [
  {
   "cell_type": "code",
   "execution_count": 4,
   "id": "6a79b6c2",
   "metadata": {},
   "outputs": [],
   "source": [
    "import pandas as pd\n",
    "import itertools\n",
    "import networkx as nx\n",
    "from networkx.algorithms.traversal.depth_first_search import dfs_tree\n",
    "import boto3\n",
    "import re\n",
    "import os\n",
    "from datetime import datetime"
   ]
  },
  {
   "cell_type": "code",
   "execution_count": 7,
   "id": "36774eba",
   "metadata": {},
   "outputs": [],
   "source": [
    "##set for test run in Jupyter\n",
    "pd.set_option (\"max_colwidth\", 100)\n",
    "os.environ [\"INPUTPATH\"] = r\"C:\\Python\\adobe\\data\\data.tsv\"\n",
    "os.environ[\"OUTPUTPATH\"] = r\"C:\\Python\\adobe\\data\\output\""
   ]
  },
  {
   "cell_type": "code",
   "execution_count": 8,
   "id": "055ea92b",
   "metadata": {},
   "outputs": [],
   "source": [
    "# for reading from s3\n",
    "# sess = boto3. session. Session (region name='us-east-1')\n",
    "# os.environ [\"INPUTPATH\"] = r\"s3://bs-workspace/misc/data.tsv\"\n",
    "# os. environ [\"OUTPUTPATH\"] = r\"s3://bs-workspace/misc\"\n",
    "# df - read_csv (path='s3://bs-workspace/misc/data.tsv\n",
    "#                 sep=\"\\t\",\n",
    "#                 boto3_session = sess)"
   ]
  },
  {
   "cell_type": "code",
   "execution_count": 9,
   "id": "4d9e7db2",
   "metadata": {},
   "outputs": [],
   "source": [
    "todays_date = datetime.strftime(datetime.now(), \"%Y-%m-%d\")"
   ]
  },
  {
   "cell_type": "code",
   "execution_count": 24,
   "id": "68a0e662",
   "metadata": {},
   "outputs": [],
   "source": [
    "output_path = os.environ.get(\"OUTPUTPATH\")\n",
    "input_path = os.environ.get(\"INPUTPATH\")\n",
    "retailer_domain = \"www.esshopzilla.com\"\n",
    "checkout_page = \"https://www.esshopzilla.com/checkout/?a=complete\""
   ]
  },
  {
   "cell_type": "code",
   "execution_count": 15,
   "id": "5cefe804",
   "metadata": {},
   "outputs": [],
   "source": [
    "output_file_qualified_path = f\"{output_path}/{todays_date}_SearchKeywordPerformance.tab\""
   ]
  },
  {
   "cell_type": "code",
   "execution_count": 19,
   "id": "2e2897ca",
   "metadata": {},
   "outputs": [],
   "source": [
    "df = pd.read_csv(input_path, sep=\"\\t\")"
   ]
  },
  {
   "cell_type": "code",
   "execution_count": 25,
   "id": "8e163e92",
   "metadata": {},
   "outputs": [],
   "source": [
    "def _parse_product_list(data):\n",
    "    revenue = 0.00\n",
    "    try:\n",
    "        products = data.split(\",\")\n",
    "        for each_product in products:\n",
    "            product_attrs = each_product.split(\";\")\n",
    "            revenue += float(product_attrs[3]) if product_attrs[3] else 0.00\n",
    "    except AttributeError:\n",
    "        pass\n",
    "    return revenue\n",
    "\n",
    "def _parse_referrer(data):\n",
    "    pattern = r\"^http\\S*//\\w+.(\\w+.\\w+)/\"\n",
    "    matches = re.match(pattern, data.strip())\n",
    "    return matches.group(1)\n",
    "\n",
    "def _parse_search_str(data):\n",
    "    # google search string pattern\n",
    "    pattern = r\"q=(\\w+)\"\n",
    "    matches = re.search(pattern, data.strip())\n",
    "    if matches:\n",
    "        pass\n",
    "    else:\n",
    "        # yahoo search string pattern\n",
    "        pattern = r\"p=(\\w+)\"\n",
    "        matches = re.search(pattern, data.strip())\n",
    "    return matches.group(1)"
   ]
  },
  {
   "cell_type": "code",
   "execution_count": 27,
   "id": "7aaba12b",
   "metadata": {},
   "outputs": [],
   "source": [
    "if len(df) > 1:\n",
    "    ip_unique = df.ip.unique()\n",
    "    referrer_list = []\n",
    "\n",
    "    for each_ip in ip_unique:\n",
    "        df_per_ip = df[df[\"ip\"] == each_ip].reset_index()\n",
    "        df_per_ip[\"revenue\"] = df_per_ip.product_list.apply(\n",
    "            _parse_product_list\n",
    "        )\n",
    "\n",
    "        g = nx.DiGraph()\n",
    "        for _i, row in df_per_ip.iterrows():\n",
    "            g.add_edge(row[\"referrer\"], row[\"page_url\"], revenue=row[\"revenue\"])\n",
    "\n",
    "        revenue = nx.get_edge_attributes(g, \"revenue\")\n",
    "\n",
    "        for _i, row in df_per_ip.iterrows():\n",
    "            if retailer_domain in row[\"referrer\"]:\n",
    "                pass\n",
    "            else:\n",
    "                revenue_amt = 0.00\n",
    "                x = dfs_tree(g, row[\"referrer\"])\n",
    "                for u, v in list(x.edges()):\n",
    "                    if checkout_page in v:\n",
    "                        revenue_amt += revenue[(u, v)]\n",
    "                referrer_list.append(\n",
    "                    {\"Referrer\": row[\"referrer\"], \"Revenue\": revenue_amt}\n",
    "                )"
   ]
  },
  {
   "cell_type": "code",
   "execution_count": 29,
   "id": "584452a8",
   "metadata": {},
   "outputs": [],
   "source": [
    "revenue_df = pd.DataFrame(referrer_list)"
   ]
  },
  {
   "cell_type": "code",
   "execution_count": 30,
   "id": "5e84fb4b",
   "metadata": {},
   "outputs": [],
   "source": [
    "revenue_df.insert(\n",
    "                0,\n",
    "                \"Search Engine Domain\",\n",
    "                revenue_df.Referrer.apply(_parse_referrer),\n",
    "            )"
   ]
  },
  {
   "cell_type": "code",
   "execution_count": 31,
   "id": "baa244a9",
   "metadata": {},
   "outputs": [],
   "source": [
    "revenue_df.insert(\n",
    "                1, \"Search Keyword\", revenue_df.Referrer.apply(_parse_search_str)\n",
    "            )"
   ]
  },
  {
   "cell_type": "code",
   "execution_count": 32,
   "id": "a6c85e39",
   "metadata": {},
   "outputs": [],
   "source": [
    "revenue_df = revenue_df.drop(\"Referrer\", axis=1).sort_values(\n",
    "                by=[\"Revenue\"], ascending=False\n",
    "            )"
   ]
  },
  {
   "cell_type": "code",
   "execution_count": 33,
   "id": "a6008bb3",
   "metadata": {},
   "outputs": [
    {
     "data": {
      "text/html": [
       "<div>\n",
       "<style scoped>\n",
       "    .dataframe tbody tr th:only-of-type {\n",
       "        vertical-align: middle;\n",
       "    }\n",
       "\n",
       "    .dataframe tbody tr th {\n",
       "        vertical-align: top;\n",
       "    }\n",
       "\n",
       "    .dataframe thead th {\n",
       "        text-align: right;\n",
       "    }\n",
       "</style>\n",
       "<table border=\"1\" class=\"dataframe\">\n",
       "  <thead>\n",
       "    <tr style=\"text-align: right;\">\n",
       "      <th></th>\n",
       "      <th>Search Engine Domain</th>\n",
       "      <th>Search Keyword</th>\n",
       "      <th>Revenue</th>\n",
       "    </tr>\n",
       "  </thead>\n",
       "  <tbody>\n",
       "    <tr>\n",
       "      <th>0</th>\n",
       "      <td>google.com</td>\n",
       "      <td>Ipod</td>\n",
       "      <td>290.0</td>\n",
       "    </tr>\n",
       "    <tr>\n",
       "      <th>1</th>\n",
       "      <td>bing.com</td>\n",
       "      <td>Zune</td>\n",
       "      <td>250.0</td>\n",
       "    </tr>\n",
       "    <tr>\n",
       "      <th>2</th>\n",
       "      <td>yahoo.com</td>\n",
       "      <td>cd</td>\n",
       "      <td>0.0</td>\n",
       "    </tr>\n",
       "    <tr>\n",
       "      <th>3</th>\n",
       "      <td>google.com</td>\n",
       "      <td>ipod</td>\n",
       "      <td>0.0</td>\n",
       "    </tr>\n",
       "  </tbody>\n",
       "</table>\n",
       "</div>"
      ],
      "text/plain": [
       "  Search Engine Domain Search Keyword  Revenue\n",
       "0           google.com           Ipod    290.0\n",
       "1             bing.com           Zune    250.0\n",
       "2            yahoo.com             cd      0.0\n",
       "3           google.com           ipod      0.0"
      ]
     },
     "execution_count": 33,
     "metadata": {},
     "output_type": "execute_result"
    }
   ],
   "source": [
    "revenue_df.head()"
   ]
  },
  {
   "cell_type": "code",
   "execution_count": 34,
   "id": "582931c6",
   "metadata": {},
   "outputs": [],
   "source": [
    "revenue_df.to_csv(\n",
    "                output_file_qualified_path,\n",
    "                sep=\"\\t\",\n",
    "                index=False,\n",
    "                header=True,\n",
    "            )"
   ]
  },
  {
   "cell_type": "code",
   "execution_count": null,
   "id": "08d0cce5",
   "metadata": {},
   "outputs": [],
   "source": []
  }
 ],
 "metadata": {
  "kernelspec": {
   "display_name": "Python 3 (ipykernel)",
   "language": "python",
   "name": "python3"
  },
  "language_info": {
   "codemirror_mode": {
    "name": "ipython",
    "version": 3
   },
   "file_extension": ".py",
   "mimetype": "text/x-python",
   "name": "python",
   "nbconvert_exporter": "python",
   "pygments_lexer": "ipython3",
   "version": "3.8.0"
  }
 },
 "nbformat": 4,
 "nbformat_minor": 5
}
